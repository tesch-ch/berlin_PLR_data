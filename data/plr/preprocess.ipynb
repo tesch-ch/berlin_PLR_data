{
 "cells": [
  {
   "cell_type": "code",
   "execution_count": 1,
   "metadata": {},
   "outputs": [],
   "source": [
    "import geopandas as gpd\n",
    "import pandas as pd"
   ]
  },
  {
   "cell_type": "code",
   "execution_count": 2,
   "metadata": {},
   "outputs": [],
   "source": [
    "plr = gpd.read_file('plr.geojson')"
   ]
  },
  {
   "cell_type": "code",
   "execution_count": 3,
   "metadata": {},
   "outputs": [
    {
     "data": {
      "text/plain": [
       "Index(['PLR_ID', 'PLR_NAME', 'BZR_ID', 'BZR_NAME', 'PGR_ID', 'PGR_NAME', 'BEZ',\n",
       "       'FINHALT', 'STAND', 'geometry'],\n",
       "      dtype='object')"
      ]
     },
     "execution_count": 3,
     "metadata": {},
     "output_type": "execute_result"
    }
   ],
   "source": [
    "plr.columns"
   ]
  },
  {
   "cell_type": "code",
   "execution_count": 4,
   "metadata": {},
   "outputs": [],
   "source": [
    "# drop columns (we only want to keep plr information)\n",
    "drop_list = ['BZR_ID', 'BZR_NAME', 'PGR_ID', 'PGR_NAME', 'BEZ',\n",
    "       'FINHALT', 'STAND']\n",
    "plr_only = plr.drop(columns=drop_list)"
   ]
  },
  {
   "cell_type": "code",
   "execution_count": 5,
   "metadata": {},
   "outputs": [
    {
     "data": {
      "text/html": [
       "<div>\n",
       "<style scoped>\n",
       "    .dataframe tbody tr th:only-of-type {\n",
       "        vertical-align: middle;\n",
       "    }\n",
       "\n",
       "    .dataframe tbody tr th {\n",
       "        vertical-align: top;\n",
       "    }\n",
       "\n",
       "    .dataframe thead th {\n",
       "        text-align: right;\n",
       "    }\n",
       "</style>\n",
       "<table border=\"1\" class=\"dataframe\">\n",
       "  <thead>\n",
       "    <tr style=\"text-align: right;\">\n",
       "      <th></th>\n",
       "      <th>PLR_ID</th>\n",
       "      <th>PLR_NAME</th>\n",
       "      <th>geometry</th>\n",
       "    </tr>\n",
       "  </thead>\n",
       "  <tbody>\n",
       "    <tr>\n",
       "      <th>0</th>\n",
       "      <td>11501341</td>\n",
       "      <td>Karlshorst Süd</td>\n",
       "      <td>POLYGON ((399848.954 5815619.506, 399836.521 5...</td>\n",
       "    </tr>\n",
       "    <tr>\n",
       "      <th>1</th>\n",
       "      <td>03701659</td>\n",
       "      <td>Immanuelkirchstraße</td>\n",
       "      <td>POLYGON ((393175.012 5821135.577, 393183.490 5...</td>\n",
       "    </tr>\n",
       "    <tr>\n",
       "      <th>2</th>\n",
       "      <td>07601340</td>\n",
       "      <td>Tirschenreuther Ring Ost</td>\n",
       "      <td>POLYGON ((388394.110 5807792.070, 388404.779 5...</td>\n",
       "    </tr>\n",
       "    <tr>\n",
       "      <th>3</th>\n",
       "      <td>02500831</td>\n",
       "      <td>Wismarplatz</td>\n",
       "      <td>POLYGON ((396010.552 5819339.570, 395991.806 5...</td>\n",
       "    </tr>\n",
       "    <tr>\n",
       "      <th>4</th>\n",
       "      <td>12601134</td>\n",
       "      <td>Märkisches Zentrum</td>\n",
       "      <td>POLYGON ((387367.428 5828619.763, 387389.202 5...</td>\n",
       "    </tr>\n",
       "    <tr>\n",
       "      <th>...</th>\n",
       "      <td>...</td>\n",
       "      <td>...</td>\n",
       "      <td>...</td>\n",
       "    </tr>\n",
       "    <tr>\n",
       "      <th>537</th>\n",
       "      <td>12500927</td>\n",
       "      <td>Wittenau Nord</td>\n",
       "      <td>POLYGON ((387280.650 5828614.114, 387282.630 5...</td>\n",
       "    </tr>\n",
       "    <tr>\n",
       "      <th>538</th>\n",
       "      <td>03200204</td>\n",
       "      <td>Blankenfelde</td>\n",
       "      <td>POLYGON ((392586.179 5829994.574, 392580.463 5...</td>\n",
       "    </tr>\n",
       "    <tr>\n",
       "      <th>539</th>\n",
       "      <td>10400941</td>\n",
       "      <td>Pilgramer Straße</td>\n",
       "      <td>POLYGON ((406064.851 5815581.891, 406073.549 5...</td>\n",
       "    </tr>\n",
       "    <tr>\n",
       "      <th>540</th>\n",
       "      <td>08100101</td>\n",
       "      <td>Hasenheide</td>\n",
       "      <td>POLYGON ((391887.140 5816592.598, 391894.836 5...</td>\n",
       "    </tr>\n",
       "    <tr>\n",
       "      <th>541</th>\n",
       "      <td>11300616</td>\n",
       "      <td>Hohenschönhauser Straße</td>\n",
       "      <td>POLYGON ((395625.330 5821110.205, 395626.792 5...</td>\n",
       "    </tr>\n",
       "  </tbody>\n",
       "</table>\n",
       "<p>542 rows × 3 columns</p>\n",
       "</div>"
      ],
      "text/plain": [
       "       PLR_ID                  PLR_NAME   \n",
       "0    11501341            Karlshorst Süd  \\\n",
       "1    03701659       Immanuelkirchstraße   \n",
       "2    07601340  Tirschenreuther Ring Ost   \n",
       "3    02500831               Wismarplatz   \n",
       "4    12601134        Märkisches Zentrum   \n",
       "..        ...                       ...   \n",
       "537  12500927             Wittenau Nord   \n",
       "538  03200204              Blankenfelde   \n",
       "539  10400941          Pilgramer Straße   \n",
       "540  08100101                Hasenheide   \n",
       "541  11300616   Hohenschönhauser Straße   \n",
       "\n",
       "                                              geometry  \n",
       "0    POLYGON ((399848.954 5815619.506, 399836.521 5...  \n",
       "1    POLYGON ((393175.012 5821135.577, 393183.490 5...  \n",
       "2    POLYGON ((388394.110 5807792.070, 388404.779 5...  \n",
       "3    POLYGON ((396010.552 5819339.570, 395991.806 5...  \n",
       "4    POLYGON ((387367.428 5828619.763, 387389.202 5...  \n",
       "..                                                 ...  \n",
       "537  POLYGON ((387280.650 5828614.114, 387282.630 5...  \n",
       "538  POLYGON ((392586.179 5829994.574, 392580.463 5...  \n",
       "539  POLYGON ((406064.851 5815581.891, 406073.549 5...  \n",
       "540  POLYGON ((391887.140 5816592.598, 391894.836 5...  \n",
       "541  POLYGON ((395625.330 5821110.205, 395626.792 5...  \n",
       "\n",
       "[542 rows x 3 columns]"
      ]
     },
     "execution_count": 5,
     "metadata": {},
     "output_type": "execute_result"
    }
   ],
   "source": [
    "plr_only"
   ]
  },
  {
   "cell_type": "code",
   "execution_count": 6,
   "metadata": {},
   "outputs": [],
   "source": [
    "plr_only.to_file('plr_only.geojson', driver='GeoJSON')"
   ]
  },
  {
   "cell_type": "code",
   "execution_count": 7,
   "metadata": {},
   "outputs": [],
   "source": [
    "plr_only_no_geo = plr_only.drop(columns='geometry')\n",
    "plr_only_no_geo.sort_values(by='PLR_ID').to_csv('plr_only_no_geo.csv', index=False)"
   ]
  }
 ],
 "metadata": {
  "kernelspec": {
   "display_name": "Python 3",
   "language": "python",
   "name": "python3"
  },
  "language_info": {
   "codemirror_mode": {
    "name": "ipython",
    "version": 3
   },
   "file_extension": ".py",
   "mimetype": "text/x-python",
   "name": "python",
   "nbconvert_exporter": "python",
   "pygments_lexer": "ipython3",
   "version": "3.11.3"
  }
 },
 "nbformat": 4,
 "nbformat_minor": 2
}
