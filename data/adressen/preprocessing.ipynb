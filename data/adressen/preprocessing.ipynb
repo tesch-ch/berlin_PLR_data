{
 "cells": [
  {
   "cell_type": "code",
   "execution_count": 1,
   "metadata": {},
   "outputs": [],
   "source": [
    "import pandas as pd"
   ]
  },
  {
   "cell_type": "code",
   "execution_count": 2,
   "metadata": {},
   "outputs": [
    {
     "data": {
      "text/plain": [
       "(401032, 7)"
      ]
     },
     "execution_count": 2,
     "metadata": {},
     "output_type": "execute_result"
    }
   ],
   "source": [
    "# Dtype so we dont lose leading zeros for plr_nr\n",
    "df = pd.read_csv('raw/adressen.csv', dtype={'plr_nr': str,'hnr': str, 'hnr_zusatz': str})\n",
    "df.shape"
   ]
  },
  {
   "cell_type": "code",
   "execution_count": 3,
   "metadata": {},
   "outputs": [
    {
     "data": {
      "text/plain": [
       "hnr           object\n",
       "hnr_zusatz    object\n",
       "str_name      object\n",
       "plz            int64\n",
       "ort_name      object\n",
       "plr_name      object\n",
       "plr_nr        object\n",
       "dtype: object"
      ]
     },
     "execution_count": 3,
     "metadata": {},
     "output_type": "execute_result"
    }
   ],
   "source": [
    "df.dtypes"
   ]
  },
  {
   "cell_type": "code",
   "execution_count": 4,
   "metadata": {},
   "outputs": [
    {
     "data": {
      "text/plain": [
       "(401032, 7)"
      ]
     },
     "execution_count": 4,
     "metadata": {},
     "output_type": "execute_result"
    }
   ],
   "source": [
    "df['hnr'] = df['hnr'].fillna('')\n",
    "df['hnr_zusatz'] = df['hnr_zusatz'].fillna('')\n",
    "\n",
    "df.shape"
   ]
  },
  {
   "cell_type": "code",
   "execution_count": 5,
   "metadata": {},
   "outputs": [],
   "source": [
    "df = df.rename(columns={'plr_name': 'PLR_NAME', 'plr_nr': 'PLR_ID'})"
   ]
  },
  {
   "cell_type": "code",
   "execution_count": 6,
   "metadata": {},
   "outputs": [],
   "source": [
    "df = df.sort_values(by=['plz', 'str_name', 'hnr', 'hnr_zusatz']) "
   ]
  },
  {
   "cell_type": "code",
   "execution_count": 7,
   "metadata": {},
   "outputs": [
    {
     "data": {
      "text/html": [
       "<div>\n",
       "<style scoped>\n",
       "    .dataframe tbody tr th:only-of-type {\n",
       "        vertical-align: middle;\n",
       "    }\n",
       "\n",
       "    .dataframe tbody tr th {\n",
       "        vertical-align: top;\n",
       "    }\n",
       "\n",
       "    .dataframe thead th {\n",
       "        text-align: right;\n",
       "    }\n",
       "</style>\n",
       "<table border=\"1\" class=\"dataframe\">\n",
       "  <thead>\n",
       "    <tr style=\"text-align: right;\">\n",
       "      <th></th>\n",
       "      <th>hnr</th>\n",
       "      <th>hnr_zusatz</th>\n",
       "      <th>str_name</th>\n",
       "      <th>plz</th>\n",
       "      <th>ort_name</th>\n",
       "      <th>PLR_NAME</th>\n",
       "      <th>PLR_ID</th>\n",
       "    </tr>\n",
       "  </thead>\n",
       "  <tbody>\n",
       "    <tr>\n",
       "      <th>11549</th>\n",
       "      <td>1</td>\n",
       "      <td></td>\n",
       "      <td>Ackerstraße</td>\n",
       "      <td>10115</td>\n",
       "      <td>Mitte</td>\n",
       "      <td>Oranienburger Straße</td>\n",
       "      <td>01100309</td>\n",
       "    </tr>\n",
       "    <tr>\n",
       "      <th>13230</th>\n",
       "      <td>1</td>\n",
       "      <td>A</td>\n",
       "      <td>Ackerstraße</td>\n",
       "      <td>10115</td>\n",
       "      <td>Mitte</td>\n",
       "      <td>Oranienburger Straße</td>\n",
       "      <td>01100309</td>\n",
       "    </tr>\n",
       "    <tr>\n",
       "      <th>10179</th>\n",
       "      <td>1</td>\n",
       "      <td>B</td>\n",
       "      <td>Ackerstraße</td>\n",
       "      <td>10115</td>\n",
       "      <td>Mitte</td>\n",
       "      <td>Invalidenstraße</td>\n",
       "      <td>01100415</td>\n",
       "    </tr>\n",
       "    <tr>\n",
       "      <th>9479</th>\n",
       "      <td>10</td>\n",
       "      <td></td>\n",
       "      <td>Ackerstraße</td>\n",
       "      <td>10115</td>\n",
       "      <td>Mitte</td>\n",
       "      <td>Invalidenstraße</td>\n",
       "      <td>01100415</td>\n",
       "    </tr>\n",
       "    <tr>\n",
       "      <th>9990</th>\n",
       "      <td>11</td>\n",
       "      <td></td>\n",
       "      <td>Ackerstraße</td>\n",
       "      <td>10115</td>\n",
       "      <td>Mitte</td>\n",
       "      <td>Invalidenstraße</td>\n",
       "      <td>01100415</td>\n",
       "    </tr>\n",
       "  </tbody>\n",
       "</table>\n",
       "</div>"
      ],
      "text/plain": [
       "      hnr hnr_zusatz     str_name    plz ort_name              PLR_NAME   \n",
       "11549   1             Ackerstraße  10115    Mitte  Oranienburger Straße  \\\n",
       "13230   1          A  Ackerstraße  10115    Mitte  Oranienburger Straße   \n",
       "10179   1          B  Ackerstraße  10115    Mitte       Invalidenstraße   \n",
       "9479   10             Ackerstraße  10115    Mitte       Invalidenstraße   \n",
       "9990   11             Ackerstraße  10115    Mitte       Invalidenstraße   \n",
       "\n",
       "         PLR_ID  \n",
       "11549  01100309  \n",
       "13230  01100309  \n",
       "10179  01100415  \n",
       "9479   01100415  \n",
       "9990   01100415  "
      ]
     },
     "execution_count": 7,
     "metadata": {},
     "output_type": "execute_result"
    }
   ],
   "source": [
    "df.head()"
   ]
  },
  {
   "cell_type": "code",
   "execution_count": 10,
   "metadata": {},
   "outputs": [],
   "source": [
    "df.to_csv('adressen.csv', index=False)\n",
    "df.to_csv('adressen.csv.gz', index=False, compression='gzip')"
   ]
  }
 ],
 "metadata": {
  "kernelspec": {
   "display_name": "Python 3",
   "language": "python",
   "name": "python3"
  },
  "language_info": {
   "codemirror_mode": {
    "name": "ipython",
    "version": 3
   },
   "file_extension": ".py",
   "mimetype": "text/x-python",
   "name": "python",
   "nbconvert_exporter": "python",
   "pygments_lexer": "ipython3",
   "version": "3.11.3"
  }
 },
 "nbformat": 4,
 "nbformat_minor": 2
}
