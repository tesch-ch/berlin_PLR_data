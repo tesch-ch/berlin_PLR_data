{
 "cells": [
  {
   "cell_type": "code",
   "execution_count": 1,
   "metadata": {},
   "outputs": [],
   "source": [
    "import geopandas as gpd\n",
    "import pandas as pd"
   ]
  },
  {
   "cell_type": "code",
   "execution_count": 2,
   "metadata": {},
   "outputs": [
    {
     "data": {
      "text/plain": [
       "True"
      ]
     },
     "execution_count": 2,
     "metadata": {},
     "output_type": "execute_result"
    }
   ],
   "source": [
    "# load source dataset containing point coordinates\n",
    "df = gpd.read_file('raw/apothekenstandorte.geojson')\n",
    "\n",
    "# we want to find the respective plr for each point coordinate, so we need the plr polygons\n",
    "plr = gpd.read_file('../plr/plr_only.geojson')\n",
    "\n",
    "# plr without geometry (for merging later on)\n",
    "plr_no_geo = plr.drop(columns='geometry').sort_values(by='PLR_ID')\n",
    "\n",
    "# check for same crs (coordinate reference system)\n",
    "df.crs == plr.crs"
   ]
  },
  {
   "cell_type": "code",
   "execution_count": 3,
   "metadata": {},
   "outputs": [
    {
     "name": "stdout",
     "output_type": "stream",
     "text": [
      "df shape: (732, 7) \n",
      "df_with_plr shape: (732, 10)\n"
     ]
    }
   ],
   "source": [
    "# Spatial join assigns each point to its respective plr\n",
    "df_with_plr = gpd.sjoin(df, plr, how='inner', predicate='within')\n",
    "\n",
    "print(\"df shape:\", df.shape, \"\\ndf_with_plr shape:\", df_with_plr.shape)"
   ]
  },
  {
   "cell_type": "code",
   "execution_count": 4,
   "metadata": {},
   "outputs": [
    {
     "data": {
      "text/html": [
       "<div>\n",
       "<style scoped>\n",
       "    .dataframe tbody tr th:only-of-type {\n",
       "        vertical-align: middle;\n",
       "    }\n",
       "\n",
       "    .dataframe tbody tr th {\n",
       "        vertical-align: top;\n",
       "    }\n",
       "\n",
       "    .dataframe thead th {\n",
       "        text-align: right;\n",
       "    }\n",
       "</style>\n",
       "<table border=\"1\" class=\"dataframe\">\n",
       "  <thead>\n",
       "    <tr style=\"text-align: right;\">\n",
       "      <th></th>\n",
       "      <th>gc_id</th>\n",
       "      <th>aponame</th>\n",
       "      <th>gc_strasse</th>\n",
       "      <th>gc_haus</th>\n",
       "      <th>gc_plz</th>\n",
       "      <th>gc_ortsteil</th>\n",
       "      <th>geometry</th>\n",
       "      <th>index_right</th>\n",
       "      <th>PLR_ID</th>\n",
       "      <th>PLR_NAME</th>\n",
       "    </tr>\n",
       "  </thead>\n",
       "  <tbody>\n",
       "    <tr>\n",
       "      <th>0</th>\n",
       "      <td>DEBE00YY2DG0003W</td>\n",
       "      <td>Apotheke im Schultheiss Quartier</td>\n",
       "      <td>Stromstraße</td>\n",
       "      <td>14</td>\n",
       "      <td>10551</td>\n",
       "      <td>Moabit</td>\n",
       "      <td>MULTIPOINT (387650.663 5820963.508)</td>\n",
       "      <td>514</td>\n",
       "      <td>01200625</td>\n",
       "      <td>Lübecker Straße</td>\n",
       "    </tr>\n",
       "    <tr>\n",
       "      <th>50</th>\n",
       "      <td>DEBE01YYK0002fB2</td>\n",
       "      <td>Alte Roland-Apotheke</td>\n",
       "      <td>Turmstraße</td>\n",
       "      <td>15</td>\n",
       "      <td>10559</td>\n",
       "      <td>Moabit</td>\n",
       "      <td>MULTIPOINT (388078.536 5820876.083)</td>\n",
       "      <td>514</td>\n",
       "      <td>01200625</td>\n",
       "      <td>Lübecker Straße</td>\n",
       "    </tr>\n",
       "    <tr>\n",
       "      <th>1</th>\n",
       "      <td>DEBE00YY2dR001ZJ</td>\n",
       "      <td>Neptun Apotheke im S-Bahnhof Alexanderplatz</td>\n",
       "      <td>Dircksenstraße</td>\n",
       "      <td>2</td>\n",
       "      <td>10179</td>\n",
       "      <td>Mitte</td>\n",
       "      <td>MULTIPOINT (392585.920 5819674.175)</td>\n",
       "      <td>528</td>\n",
       "      <td>01100311</td>\n",
       "      <td>Karl-Marx-Allee</td>\n",
       "    </tr>\n",
       "    <tr>\n",
       "      <th>28</th>\n",
       "      <td>DEBE01YYK0000VBL</td>\n",
       "      <td>Alexa-Apotheke</td>\n",
       "      <td>Grunerstraße</td>\n",
       "      <td>20</td>\n",
       "      <td>10179</td>\n",
       "      <td>Mitte</td>\n",
       "      <td>MULTIPOINT (392470.486 5820057.969)</td>\n",
       "      <td>528</td>\n",
       "      <td>01100311</td>\n",
       "      <td>Karl-Marx-Allee</td>\n",
       "    </tr>\n",
       "    <tr>\n",
       "      <th>2</th>\n",
       "      <td>DEBE00YY2fJ0006W</td>\n",
       "      <td>Arena-Apotheke</td>\n",
       "      <td>Tamara-Danz-Straße</td>\n",
       "      <td>11</td>\n",
       "      <td>10243</td>\n",
       "      <td>Friedrichshain</td>\n",
       "      <td>MULTIPOINT (394487.479 5818426.037)</td>\n",
       "      <td>231</td>\n",
       "      <td>02400625</td>\n",
       "      <td>Wriezener Bahnhof</td>\n",
       "    </tr>\n",
       "  </tbody>\n",
       "</table>\n",
       "</div>"
      ],
      "text/plain": [
       "               gc_id                                      aponame   \n",
       "0   DEBE00YY2DG0003W             Apotheke im Schultheiss Quartier  \\\n",
       "50  DEBE01YYK0002fB2                         Alte Roland-Apotheke   \n",
       "1   DEBE00YY2dR001ZJ  Neptun Apotheke im S-Bahnhof Alexanderplatz   \n",
       "28  DEBE01YYK0000VBL                               Alexa-Apotheke   \n",
       "2   DEBE00YY2fJ0006W                               Arena-Apotheke   \n",
       "\n",
       "            gc_strasse gc_haus gc_plz     gc_ortsteil   \n",
       "0          Stromstraße      14  10551          Moabit  \\\n",
       "50          Turmstraße      15  10559          Moabit   \n",
       "1       Dircksenstraße       2  10179           Mitte   \n",
       "28        Grunerstraße      20  10179           Mitte   \n",
       "2   Tamara-Danz-Straße      11  10243  Friedrichshain   \n",
       "\n",
       "                               geometry  index_right    PLR_ID   \n",
       "0   MULTIPOINT (387650.663 5820963.508)          514  01200625  \\\n",
       "50  MULTIPOINT (388078.536 5820876.083)          514  01200625   \n",
       "1   MULTIPOINT (392585.920 5819674.175)          528  01100311   \n",
       "28  MULTIPOINT (392470.486 5820057.969)          528  01100311   \n",
       "2   MULTIPOINT (394487.479 5818426.037)          231  02400625   \n",
       "\n",
       "             PLR_NAME  \n",
       "0     Lübecker Straße  \n",
       "50    Lübecker Straße  \n",
       "1     Karl-Marx-Allee  \n",
       "28    Karl-Marx-Allee  \n",
       "2   Wriezener Bahnhof  "
      ]
     },
     "execution_count": 4,
     "metadata": {},
     "output_type": "execute_result"
    }
   ],
   "source": [
    "df_with_plr.head()"
   ]
  },
  {
   "cell_type": "code",
   "execution_count": 5,
   "metadata": {},
   "outputs": [
    {
     "data": {
      "text/plain": [
       "Index(['gc_id', 'aponame', 'gc_strasse', 'gc_haus', 'gc_plz', 'gc_ortsteil',\n",
       "       'geometry', 'index_right', 'PLR_ID', 'PLR_NAME'],\n",
       "      dtype='object')"
      ]
     },
     "execution_count": 5,
     "metadata": {},
     "output_type": "execute_result"
    }
   ],
   "source": [
    "df_with_plr.columns"
   ]
  },
  {
   "cell_type": "code",
   "execution_count": 6,
   "metadata": {},
   "outputs": [
    {
     "data": {
      "text/html": [
       "<div>\n",
       "<style scoped>\n",
       "    .dataframe tbody tr th:only-of-type {\n",
       "        vertical-align: middle;\n",
       "    }\n",
       "\n",
       "    .dataframe tbody tr th {\n",
       "        vertical-align: top;\n",
       "    }\n",
       "\n",
       "    .dataframe thead th {\n",
       "        text-align: right;\n",
       "    }\n",
       "</style>\n",
       "<table border=\"1\" class=\"dataframe\">\n",
       "  <thead>\n",
       "    <tr style=\"text-align: right;\">\n",
       "      <th></th>\n",
       "      <th>PLR_ID</th>\n",
       "      <th>aponame</th>\n",
       "    </tr>\n",
       "  </thead>\n",
       "  <tbody>\n",
       "    <tr>\n",
       "      <th>0</th>\n",
       "      <td>01200625</td>\n",
       "      <td>Apotheke im Schultheiss Quartier</td>\n",
       "    </tr>\n",
       "    <tr>\n",
       "      <th>50</th>\n",
       "      <td>01200625</td>\n",
       "      <td>Alte Roland-Apotheke</td>\n",
       "    </tr>\n",
       "    <tr>\n",
       "      <th>1</th>\n",
       "      <td>01100311</td>\n",
       "      <td>Neptun Apotheke im S-Bahnhof Alexanderplatz</td>\n",
       "    </tr>\n",
       "    <tr>\n",
       "      <th>28</th>\n",
       "      <td>01100311</td>\n",
       "      <td>Alexa-Apotheke</td>\n",
       "    </tr>\n",
       "    <tr>\n",
       "      <th>2</th>\n",
       "      <td>02400625</td>\n",
       "      <td>Arena-Apotheke</td>\n",
       "    </tr>\n",
       "  </tbody>\n",
       "</table>\n",
       "</div>"
      ],
      "text/plain": [
       "      PLR_ID                                      aponame\n",
       "0   01200625             Apotheke im Schultheiss Quartier\n",
       "50  01200625                         Alte Roland-Apotheke\n",
       "1   01100311  Neptun Apotheke im S-Bahnhof Alexanderplatz\n",
       "28  01100311                               Alexa-Apotheke\n",
       "2   02400625                               Arena-Apotheke"
      ]
     },
     "execution_count": 6,
     "metadata": {},
     "output_type": "execute_result"
    }
   ],
   "source": [
    "# only keep summary relevant features, get rid of geometry -> regular pandas dataframe\n",
    "feature_list = ['PLR_ID', 'aponame']\n",
    "df_with_plr = df_with_plr[feature_list]\n",
    "df_with_plr.head()"
   ]
  },
  {
   "cell_type": "code",
   "execution_count": 7,
   "metadata": {},
   "outputs": [],
   "source": [
    "# Summarize by groupby\n",
    "gb = df_with_plr.groupby('PLR_ID')\n",
    "\n",
    "count = gb.size().reset_index(name='pharmacy_count')\n",
    "names = gb['aponame'].apply(list).reset_index(name='pharmacy_names')"
   ]
  },
  {
   "cell_type": "code",
   "execution_count": 8,
   "metadata": {},
   "outputs": [
    {
     "data": {
      "text/plain": [
       "(542, 4)"
      ]
     },
     "execution_count": 8,
     "metadata": {},
     "output_type": "execute_result"
    }
   ],
   "source": [
    "# Merge\n",
    "result = plr_no_geo \\\n",
    "    .merge(count, on='PLR_ID', how='outer') \\\n",
    "    .merge(names, on='PLR_ID', how='outer')\n",
    "\n",
    "result.shape"
   ]
  },
  {
   "cell_type": "code",
   "execution_count": 9,
   "metadata": {},
   "outputs": [
    {
     "data": {
      "text/html": [
       "<div>\n",
       "<style scoped>\n",
       "    .dataframe tbody tr th:only-of-type {\n",
       "        vertical-align: middle;\n",
       "    }\n",
       "\n",
       "    .dataframe tbody tr th {\n",
       "        vertical-align: top;\n",
       "    }\n",
       "\n",
       "    .dataframe thead th {\n",
       "        text-align: right;\n",
       "    }\n",
       "</style>\n",
       "<table border=\"1\" class=\"dataframe\">\n",
       "  <thead>\n",
       "    <tr style=\"text-align: right;\">\n",
       "      <th></th>\n",
       "      <th>PLR_ID</th>\n",
       "      <th>PLR_NAME</th>\n",
       "      <th>pharmacy_count</th>\n",
       "      <th>pharmacy_names</th>\n",
       "    </tr>\n",
       "  </thead>\n",
       "  <tbody>\n",
       "    <tr>\n",
       "      <th>0</th>\n",
       "      <td>01100101</td>\n",
       "      <td>Stülerstraße</td>\n",
       "      <td>NaN</td>\n",
       "      <td>NaN</td>\n",
       "    </tr>\n",
       "    <tr>\n",
       "      <th>1</th>\n",
       "      <td>01100102</td>\n",
       "      <td>Großer Tiergarten</td>\n",
       "      <td>1.0</td>\n",
       "      <td>[Pluspunkt Apotheke Potsdamer Platz]</td>\n",
       "    </tr>\n",
       "    <tr>\n",
       "      <th>2</th>\n",
       "      <td>01100103</td>\n",
       "      <td>Lützowstraße</td>\n",
       "      <td>NaN</td>\n",
       "      <td>NaN</td>\n",
       "    </tr>\n",
       "    <tr>\n",
       "      <th>3</th>\n",
       "      <td>01100104</td>\n",
       "      <td>Körnerstraße</td>\n",
       "      <td>2.0</td>\n",
       "      <td>[Humboldt-Apotheke, Potsdamer-Apotheke]</td>\n",
       "    </tr>\n",
       "    <tr>\n",
       "      <th>4</th>\n",
       "      <td>01100205</td>\n",
       "      <td>Wilhelmstraße</td>\n",
       "      <td>2.0</td>\n",
       "      <td>[Apotheke am Leipziger Platz, Apotheke im Regi...</td>\n",
       "    </tr>\n",
       "  </tbody>\n",
       "</table>\n",
       "</div>"
      ],
      "text/plain": [
       "     PLR_ID           PLR_NAME  pharmacy_count   \n",
       "0  01100101       Stülerstraße             NaN  \\\n",
       "1  01100102  Großer Tiergarten             1.0   \n",
       "2  01100103       Lützowstraße             NaN   \n",
       "3  01100104       Körnerstraße             2.0   \n",
       "4  01100205      Wilhelmstraße             2.0   \n",
       "\n",
       "                                      pharmacy_names  \n",
       "0                                                NaN  \n",
       "1               [Pluspunkt Apotheke Potsdamer Platz]  \n",
       "2                                                NaN  \n",
       "3            [Humboldt-Apotheke, Potsdamer-Apotheke]  \n",
       "4  [Apotheke am Leipziger Platz, Apotheke im Regi...  "
      ]
     },
     "execution_count": 9,
     "metadata": {},
     "output_type": "execute_result"
    }
   ],
   "source": [
    "result.head()"
   ]
  },
  {
   "cell_type": "code",
   "execution_count": 10,
   "metadata": {},
   "outputs": [],
   "source": [
    "result.to_csv(\"pharmacies_per_plr.csv\", index=False)"
   ]
  }
 ],
 "metadata": {
  "kernelspec": {
   "display_name": "Python 3",
   "language": "python",
   "name": "python3"
  },
  "language_info": {
   "codemirror_mode": {
    "name": "ipython",
    "version": 3
   },
   "file_extension": ".py",
   "mimetype": "text/x-python",
   "name": "python",
   "nbconvert_exporter": "python",
   "pygments_lexer": "ipython3",
   "version": "3.11.3"
  }
 },
 "nbformat": 4,
 "nbformat_minor": 2
}
